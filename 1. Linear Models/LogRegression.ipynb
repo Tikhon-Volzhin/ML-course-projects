{
 "cells": [
  {
   "cell_type": "code",
   "execution_count": 1,
   "id": "interested-backup",
   "metadata": {
    "colab": {},
    "colab_type": "code",
    "id": "d4xxxebKnQLm"
   },
   "outputs": [],
   "source": [
    "from scipy.special import expit\n",
    "import numpy as np\n",
    "from sklearn.utils import shuffle\n",
    "from sklearn.base import BaseEstimator\n",
    "\n",
    "class LogisticRegression(BaseEstimator):\n",
    "    def __init__(self, alpha=0.05, lr=0.1, max_iter=1e3,\n",
    "                 fit_intercept=True, batch_size = 128, delta_converged = 1e-2):\n",
    "        self.batch_size = batch_size\n",
    "        self.alpha = alpha\n",
    "        self.lr = lr\n",
    "        self.max_iter = max_iter\n",
    "        self.fit_intercept = fit_intercept\n",
    "        self.delta_converged = delta_converged\n",
    "\n",
    "    @staticmethod\n",
    "    def _sigmoid(x):\n",
    "        return expit(x)\n",
    "\n",
    "    def _add_intercept(self, X):\n",
    "\n",
    "        X_copy = np.full((X.shape[0], X.shape[1] + 1), fill_value=1.)\n",
    "        X_copy[:, :-1] = X\n",
    "\n",
    "        return X_copy\n",
    "\n",
    "    def fit(self, X, Y):\n",
    "        assert X.shape[0] == Y.shape[0]\n",
    "\n",
    "        if self.fit_intercept: \n",
    "            X_copy = self._add_intercept(X)\n",
    "        else:\n",
    "            X_copy = X.copy()\n",
    "        n_samples, n_features = X_copy.shape\n",
    "\n",
    "        batch_split_mask = [x for x in range(self.batch_size, n_samples, self.batch_size)]\n",
    "        weights = np.random.sample((n_features))\n",
    "        num_steps = -1\n",
    "        while (num_steps := num_steps + 1) < self.max_iter:\n",
    "            \n",
    "            X_step, y_step = shuffle(X_copy, Y)\n",
    "            X_batches, y_batches = np.split(X_step, batch_split_mask), np.split(y_step, batch_split_mask)\n",
    "            for X_batch, y_batch in zip(X_batches, y_batches):\n",
    "                curr_batch_len = len(y_batch)\n",
    "                \n",
    "                if curr_batch_len != self.batch_size:\n",
    "                    continue\n",
    "                reg_weights = np.copy(weights)\n",
    "                sigmoid_vector = self._sigmoid(X_batch @ weights)\n",
    "                if self.fit_intercept:\n",
    "                    reg_weights[-1] = 0\n",
    "                gradient = (X_batch.T @ (sigmoid_vector - y_batch))/self.batch_size  + (2 * self.alpha) * reg_weights\n",
    "                weights -= self.lr * gradient\n",
    "                if (np.linalg.norm(gradient) < self.delta_converged):\n",
    "                    self.weights = weights\n",
    "                    return self\n",
    "        \n",
    "        self.weights = weights\n",
    "        return self\n",
    "\n",
    "    def predict(self, X):\n",
    "        if self.fit_intercept:\n",
    "            X_copy = self._add_intercept(X)\n",
    "        else:\n",
    "            X_copy = X.copy()\n",
    "\n",
    "        assert X_copy.shape[1] == self.weights.shape[0]\n",
    "        y_pred = self._sigmoid(X_copy @ self.weights)\n",
    "        y_pred[y_pred > 0.5] = 1.\n",
    "        y_pred[y_pred <= 0.5] = 0.\n",
    "        return y_pred[:, None]\n",
    "\n",
    "    def predict_proba(self, X):\n",
    "\n",
    "        if self.fit_intercept:\n",
    "            X_copy = self._add_intercept(X)\n",
    "        else:\n",
    "            X_copy = X.copy()\n",
    "\n",
    "        assert X_copy.shape[1] == self.weights.shape[0]\n",
    "        y_pred_proba = self._sigmoid(X_copy @ self.weights)\n",
    "        return np.hstack([y_pred_proba, 1. - y_pred_proba])\n"
   ]
  },
  {
   "cell_type": "code",
   "execution_count": 2,
   "id": "anonymous-raising",
   "metadata": {
    "colab": {
     "base_uri": "https://localhost:8080/",
     "height": 372
    },
    "colab_type": "code",
    "id": "uUMbGPj-Fgfi",
    "outputId": "9b6b8f4b-d90a-42d7-d6d7-880c5853a33c"
   },
   "outputs": [],
   "source": [
    "from sklearn.datasets import load_breast_cancer\n",
    "from sklearn.model_selection import train_test_split\n",
    "\n",
    "dataset = load_breast_cancer()"
   ]
  },
  {
   "cell_type": "code",
   "execution_count": 3,
   "id": "otherwise-savage",
   "metadata": {
    "colab": {
     "base_uri": "https://localhost:8080/",
     "height": 34
    },
    "colab_type": "code",
    "id": "WEn6HImRc8zJ",
    "outputId": "9c25a5a2-4ea6-4e33-c9be-b780470fbbbb"
   },
   "outputs": [
    {
     "data": {
      "text/plain": [
       "((455, 30), (114, 30), (455,), (114,))"
      ]
     },
     "execution_count": 3,
     "metadata": {},
     "output_type": "execute_result"
    }
   ],
   "source": [
    "X, Y = dataset['data'], dataset['target']\n",
    "\n",
    "X_train, X_test, Y_train, Y_test = train_test_split(\n",
    "    X, Y, test_size=0.2, random_state=42\n",
    ")\n",
    "X_train.shape, X_test.shape, Y_train.shape, Y_test.shape"
   ]
  },
  {
   "cell_type": "code",
   "execution_count": 4,
   "id": "backed-substance",
   "metadata": {
    "colab": {},
    "colab_type": "code",
    "id": "oNAqhHbZPBvb"
   },
   "outputs": [],
   "source": [
    "from sklearn.preprocessing import StandardScaler\n",
    "scaler = StandardScaler()\n",
    "X_train = scaler.fit_transform(X_train)\n",
    "X_test = scaler.transform(X_test)"
   ]
  },
  {
   "cell_type": "code",
   "execution_count": 5,
   "id": "armed-trinidad",
   "metadata": {
    "colab": {},
    "colab_type": "code",
    "id": "6yZEZS1tnv1q"
   },
   "outputs": [],
   "source": [
    "model = LogisticRegression(fit_intercept = True)\n",
    "model = model.fit(X_train, Y_train)"
   ]
  },
  {
   "cell_type": "code",
   "execution_count": 6,
   "id": "a44f2b4e",
   "metadata": {},
   "outputs": [
    {
     "data": {
      "text/plain": [
       "0.9793103448275862"
      ]
     },
     "execution_count": 6,
     "metadata": {},
     "output_type": "execute_result"
    }
   ],
   "source": [
    "from sklearn.metrics import f1_score\n",
    "f1_score(Y_test, model.predict(X_test))"
   ]
  },
  {
   "cell_type": "code",
   "execution_count": 7,
   "id": "automotive-partner",
   "metadata": {
    "colab": {},
    "colab_type": "code",
    "id": "UL0NzUTDbuxW"
   },
   "outputs": [],
   "source": [
    "lrs = [1e-5, 1e-4, 1e-3, 1e-2, 0.1, 0.2, 0.3, 0.5, 0.7, 1, 2, 5, 10]\n",
    "models_lr_list = [LogisticRegression(lr = lr_) for lr_ in lrs]"
   ]
  },
  {
   "cell_type": "code",
   "execution_count": 8,
   "id": "cooked-spring",
   "metadata": {},
   "outputs": [
    {
     "name": "stdout",
     "output_type": "stream",
     "text": [
      "lr = 1e-05, f_1 score = 0.1176470588235294\n",
      "lr = 0.0001, f_1 score = 0.2222222222222222\n",
      "lr = 0.001, f_1 score = 0.9645390070921985\n",
      "lr = 0.01, f_1 score = 0.9861111111111112\n",
      "lr = 0.1, f_1 score = 0.9793103448275862\n",
      "lr = 0.2, f_1 score = 0.9793103448275862\n",
      "lr = 0.3, f_1 score = 0.9861111111111112\n",
      "lr = 0.5, f_1 score = 0.9861111111111112\n",
      "lr = 0.7, f_1 score = 0.9793103448275862\n",
      "lr = 1, f_1 score = 0.9861111111111112\n",
      "lr = 2, f_1 score = 0.9793103448275862\n",
      "lr = 5, f_1 score = 0.896551724137931\n",
      "lr = 10, f_1 score = 0.5401459854014597\n"
     ]
    }
   ],
   "source": [
    "f_1_score_list = []\n",
    "for model, lr in zip(models_lr_list, lrs):\n",
    "    model = model.fit(X_train, Y_train)\n",
    "    score = f1_score(Y_test, model.predict(X_test))\n",
    "    f_1_score_list.append(score)\n",
    "    print(\"lr = \" + str(lr) + \", f_1 score = \" + str(score))"
   ]
  },
  {
   "cell_type": "code",
   "execution_count": 9,
   "id": "8004196b",
   "metadata": {},
   "outputs": [
    {
     "data": {
      "image/png": "[encoded data removed]",
      "text/plain": [
       "<Figure size 640x480 with 1 Axes>"
      ]
     },
     "metadata": {},
     "output_type": "display_data"
    }
   ],
   "source": [
    "import matplotlib.pyplot as plt\n",
    "plt.plot(lrs[:-2], f_1_score_list[:-2])\n",
    "plt.show()"
   ]
  },
  {
   "cell_type": "code",
   "execution_count": 28,
   "id": "convertible-edmonton",
   "metadata": {},
   "outputs": [],
   "source": [
    "reg_coef = np.linspace(0, 0.02, 15)\n",
    "optim_lr = lrs[np.argmax(f_1_score_list)]\n",
    "models_reg_list = [LogisticRegression(lr = optim_lr, alpha = reg) for reg in reg_coef]"
   ]
  },
  {
   "cell_type": "code",
   "execution_count": 29,
   "id": "b559bc51",
   "metadata": {},
   "outputs": [
    {
     "name": "stdout",
     "output_type": "stream",
     "text": [
      "reg = 0.0, f_1 score = 0.9859154929577465\n",
      "reg = 0.0014285714285714286, f_1 score = 0.993006993006993\n",
      "reg = 0.002857142857142857, f_1 score = 0.979020979020979\n",
      "reg = 0.004285714285714286, f_1 score = 0.9861111111111112\n",
      "reg = 0.005714285714285714, f_1 score = 0.9859154929577465\n",
      "reg = 0.007142857142857143, f_1 score = 0.993006993006993\n",
      "reg = 0.008571428571428572, f_1 score = 0.993006993006993\n",
      "reg = 0.01, f_1 score = 0.9861111111111112\n",
      "reg = 0.011428571428571429, f_1 score = 0.9861111111111112\n",
      "reg = 0.012857142857142857, f_1 score = 0.993006993006993\n",
      "reg = 0.014285714285714285, f_1 score = 0.9861111111111112\n",
      "reg = 0.015714285714285715, f_1 score = 0.9861111111111112\n",
      "reg = 0.017142857142857144, f_1 score = 0.9861111111111112\n",
      "reg = 0.018571428571428572, f_1 score = 0.9861111111111112\n",
      "reg = 0.02, f_1 score = 0.9861111111111112\n"
     ]
    }
   ],
   "source": [
    "f_1_score_list_reg = []\n",
    "for model, reg in zip(models_reg_list, reg_coef):\n",
    "    model = model.fit(X_train, Y_train)\n",
    "    score = f1_score(Y_test, model.predict(X_test))\n",
    "    f_1_score_list_reg.append(score)\n",
    "    print(\"reg = \" + str(reg) + \", f_1 score = \" + str(score))"
   ]
  },
  {
   "cell_type": "code",
   "execution_count": 31,
   "id": "7d9419ec",
   "metadata": {},
   "outputs": [
    {
     "data": {
      "image/png": "[encoded data removed]",
      "text/plain": [
       "<Figure size 640x480 with 1 Axes>"
      ]
     },
     "metadata": {},
     "output_type": "display_data"
    }
   ],
   "source": [
    "import matplotlib.pyplot as plt\n",
    "plt.plot(reg_coef, f_1_score_list_reg)\n",
    "plt.show()"
   ]
  },
  {
   "cell_type": "code",
   "execution_count": 32,
   "id": "assisted-rouge",
   "metadata": {},
   "outputs": [
    {
     "name": "stdout",
     "output_type": "stream",
     "text": [
      "0.966194601676517\n",
      "0.9760993554344678\n",
      "0.9718337617261683\n",
      "0.9865464235089295\n",
      "0.9696601866999147\n",
      "0.9835227658901751\n",
      "0.9717319854843531\n",
      "0.9775714826877702\n",
      "0.9715419356572703\n",
      "0.9820181009833631\n",
      "0.9696599440077168\n",
      "0.9804386332513838\n",
      "0.9754907630134177\n",
      "0.9789921107600561\n",
      "0.9734980271990397\n",
      "0.9774874458532443\n",
      "0.9715636757397211\n",
      "0.980473923167503\n",
      "0.9735321351895104\n",
      "0.9789453945942543\n",
      "0.9657307466412238\n",
      "0.9804079675620926\n",
      "0.9715176592926815\n",
      "0.9774157811567601\n",
      "0.975432378658358\n",
      "0.9789153041844191\n",
      "0.9676650981005424\n",
      "0.9789265958068466\n",
      "0.969679573997371\n",
      "0.980473923167503\n"
     ]
    }
   ],
   "source": [
    "from sklearn.model_selection import KFold\n",
    "from sklearn.model_selection import ShuffleSplit\n",
    "from sklearn.model_selection import cross_val_score\n",
    "from sklearn.pipeline import make_pipeline\n",
    "\n",
    "models_reg_list = [LogisticRegression(lr = optim_lr, alpha = reg) for reg in reg_coef]\n",
    "\n",
    "kf = KFold(n_splits=5, shuffle=True, random_state=42)\n",
    "ss = ShuffleSplit(n_splits=5, test_size=.25, random_state=42)\n",
    "\n",
    "kf_scores_list = []\n",
    "ss_scores_list = []\n",
    "\n",
    "for model in models_reg_list:\n",
    "    pipeline = make_pipeline(StandardScaler(), model)\n",
    "\n",
    "    kf_score = cross_val_score(\n",
    "        pipeline, X, Y, cv=kf, scoring='f1_macro')\n",
    "    kf_scores_list.append(kf_score.mean())\n",
    "    print(kf_score.mean())\n",
    "    ss_score = cross_val_score(\n",
    "        pipeline, X, Y, cv=ss, scoring='f1_macro')\n",
    "    ss_scores_list.append(ss_score.mean())\n",
    "    print(ss_score.mean())"
   ]
  },
  {
   "cell_type": "code",
   "execution_count": 33,
   "id": "c2c69bfa",
   "metadata": {},
   "outputs": [
    {
     "name": "stdout",
     "output_type": "stream",
     "text": [
      "0.008571428571428572 0.0014285714285714286\n"
     ]
    }
   ],
   "source": [
    "best_reg_kf, best_reg_ss = reg_coef[np.argmax(kf_scores_list)], reg_coef[np.argmax(ss_scores_list)]\n",
    "print(best_reg_kf, best_reg_ss)"
   ]
  },
  {
   "cell_type": "code",
   "execution_count": 34,
   "id": "92e1a734-b563-4bea-bcc9-f295fc14e303",
   "metadata": {},
   "outputs": [
    {
     "name": "stdout",
     "output_type": "stream",
     "text": [
      "0 0.9695833078333631 0.9789692582606913\n",
      "1 0.9734179027615293 0.9789692582606913\n",
      "2 0.9733669890335512 0.9820305373615744\n",
      "3 0.9695833078333631 0.9804859080948116\n",
      "4 0.9695833078333631 0.9804859080948116\n",
      "5 0.9695994495598607 0.9804859080948116\n",
      "6 0.9695833078333631 0.9774407296874426\n",
      "7 0.9676650981005424 0.9773980672335979\n",
      "8 0.9715176592926815 0.9789692582606913\n",
      "9 0.9657277234475637 0.9789265958068466\n",
      "10 0.9676650981005424 0.9789692582606913\n",
      "11 0.9676650981005424 0.9758821107043586\n",
      "12 0.9714835513022108 0.9789692582606913\n",
      "13 0.9695833078333631 0.9804859080948116\n",
      "14 0.9714835513022108 0.9804620444283747\n",
      "15 0.969679573997371 0.9774407296874426\n",
      "16 0.9734179027615293 0.9789265958068466\n",
      "17 0.9676650981005424 0.9804859080948116\n",
      "18 0.9695833078333631 0.9789265958068466\n",
      "19 0.9695833078333631 0.9789692582606913\n",
      "20 0.9676650981005424 0.9789692582606913\n",
      "21 0.9676650981005424 0.9789692582606913\n",
      "22 0.9676650981005424 0.9789692582606913\n",
      "23 0.9676650981005424 0.9789573795215629\n",
      "24 0.9715176592926815 0.9789604104235229\n",
      "25 0.9714835513022108 0.9789692582606913\n",
      "26 0.9695994495598607 0.9789573795215629\n",
      "27 0.9676650981005424 0.9789027321404097\n",
      "28 0.9676650981005424 0.9774407296874426\n",
      "29 0.9657277234475637 0.9758821107043586\n",
      "30 0.9714835513022108 0.9789692582606913\n",
      "31 0.9733669890335512 0.9774407296874426\n",
      "32 0.9714835513022108 0.9804859080948116\n",
      "33 0.9676650981005424 0.980473923167503\n",
      "34 0.9695833078333631 0.980473923167503\n",
      "35 0.9676650981005424 0.9774407296874426\n",
      "36 0.9676489563740447 0.9789692582606913\n",
      "37 0.9695833078333631 0.9789265958068466\n",
      "38 0.9695994495598607 0.9789692582606913\n",
      "39 0.9657307466412238 0.9789573795215629\n",
      "40 0.9695833078333631 0.9804859080948116\n",
      "41 0.9676650981005424 0.9789692582606913\n",
      "42 0.9676650981005424 0.9804859080948116\n",
      "43 0.9676650981005424 0.9820305373615744\n",
      "44 0.9695833078333631 0.9789692582606913\n",
      "45 0.9676650981005424 0.9804859080948116\n",
      "46 0.9695833078333631 0.9820181009833631\n",
      "47 0.9695833078333631 0.9789692582606913\n",
      "48 0.9715176592926815 0.9804859080948116\n",
      "49 0.9657086728580367 0.9789692582606913\n",
      "50 0.9714835513022108 0.9789692582606913\n",
      "51 0.9715176592926815 0.9789692582606913\n",
      "52 0.9676650981005424 0.9774106392776073\n",
      "53 0.9676650981005424 0.9804859080948116\n",
      "54 0.9676650981005424 0.9804859080948116\n",
      "55 0.9676650981005424 0.9758821107043586\n",
      "56 0.9695833078333631 0.9789692582606913\n",
      "57 0.969679573997371 0.9774106392776073\n",
      "58 0.9657277234475637 0.9758821107043586\n",
      "59 0.9695833078333631 0.9774407296874426\n",
      "60 0.9715176592926815 0.9789692582606913\n",
      "61 0.9657277234475637 0.9804859080948116\n",
      "62 0.9676650981005424 0.9789692582606913\n",
      "63 0.9733669890335512 0.9804859080948116\n",
      "64 0.9715977837301919 0.9804859080948116\n",
      "65 0.97538146493038 0.9789692582606913\n",
      "66 0.9715176592926815 0.9789573795215629\n",
      "67 0.9695994495598607 0.9789692582606913\n",
      "68 0.9714835513022108 0.9789265958068466\n",
      "69 0.9734980271990397 0.9804312607136584\n",
      "70 0.9714835513022108 0.9789692582606913\n",
      "71 0.9676650981005424 0.9789692582606913\n",
      "72 0.9676650981005424 0.9804619216383648\n",
      "73 0.9695833078333631 0.9805020087883257\n",
      "74 0.9658456083377871 0.9774407296874426\n",
      "75 0.9676650981005424 0.9789692582606913\n",
      "76 0.9695833078333631 0.9789265958068466\n",
      "77 0.9695833078333631 0.9789692582606913\n",
      "78 0.9695833078333631 0.9789692582606913\n",
      "79 0.9695833078333631 0.9819905730016234\n",
      "80 0.9695833078333631 0.9819905730016234\n",
      "81 0.9677615486671647 0.9789027321404097\n",
      "82 0.9676650981005424 0.9789692582606913\n",
      "83 0.9676650981005424 0.9804619216383648\n",
      "84 0.9695994495598607 0.9789265958068466\n",
      "85 0.9733669890335512 0.9773980672335979\n",
      "86 0.9695833078333631 0.9804859080948116\n",
      "87 0.9695833078333631 0.9774407296874426\n",
      "88 0.9734980271990397 0.980473923167503\n",
      "89 0.9695833078333631 0.9789265958068466\n",
      "90 0.9676650981005424 0.9804859080948116\n",
      "91 0.9676650981005424 0.980473923167503\n",
      "92 0.9714835513022108 0.9774407296874426\n",
      "93 0.969679573997371 0.9789573795215629\n",
      "94 0.9676650981005424 0.9789265958068466\n",
      "95 0.9657307466412238 0.9804619216383648\n",
      "96 0.9676650981005424 0.9804859080948116\n",
      "97 0.9695833078333631 0.9789265958068466\n",
      "98 0.9676268825908577 0.9774106392776073\n",
      "99 0.9734980271990397 0.9758821107043586\n"
     ]
    }
   ],
   "source": [
    "best_model_kf, best_model_ss = LogisticRegression(lr = optim_lr, alpha = best_reg_kf), LogisticRegression(lr = optim_lr, alpha = best_reg_ss)\n",
    "kf_pipeline, ss_pipeline = make_pipeline(StandardScaler(), best_model_kf), make_pipeline(StandardScaler(), best_model_ss)\n",
    "kf_score_best = []\n",
    "ss_score_best = []\n",
    "for i in range(100):\n",
    "    kf_score = cross_val_score(\n",
    "        pipeline, X, Y, cv=kf, scoring='f1_macro')\n",
    "    kf_score_best.append(kf_score.mean())\n",
    "    ss_score = cross_val_score(\n",
    "        pipeline, X, Y, cv=ss, scoring='f1_macro')\n",
    "    ss_score_best.append(ss_score.mean())\n",
    "    print(i, kf_score.mean(), ss_score.mean())"
   ]
  },
  {
   "cell_type": "code",
   "execution_count": 35,
   "id": "af8e0ec2",
   "metadata": {},
   "outputs": [
    {
     "name": "stdout",
     "output_type": "stream",
     "text": [
      "4.596169238791048e-06 1.871435424562375e-06\n"
     ]
    }
   ],
   "source": [
    "std_kf, std_ss = np.var(kf_score_best), np.var(ss_score_best)\n",
    "print(std_kf, std_ss)"
   ]
  },
  {
   "cell_type": "markdown",
   "id": "destroyed-syntax",
   "metadata": {},
   "source": [
    "**Вывод:** У ShuffleSplit меньше дисперсия, чем у KFold. Скорее всего это из-за +- регулярной структуры разбиения: KFold гарантирует, что тестовые куски не пересекаются, в то время как ShuffleSplit может содержать частично в тесте те же данные, что и были на других итерациях. Тестирование на частично повторяющейся выборке даст меньшую дисперсию в отличие от полностью различных тестовых данных."
   ]
  },
  {
   "cell_type": "markdown",
   "id": "2f151bb3",
   "metadata": {},
   "source": []
  }
 ],
 "metadata": {
  "kernelspec": {
   "display_name": "Python 3 (ipykernel)",
   "language": "python",
   "name": "python3"
  },
  "language_info": {
   "codemirror_mode": {
    "name": "ipython",
    "version": 3
   },
   "file_extension": ".py",
   "mimetype": "text/x-python",
   "name": "python",
   "nbconvert_exporter": "python",
   "pygments_lexer": "ipython3",
   "version": "3.11.5"
  },
  "varInspector": {
   "cols": {
    "lenName": 16,
    "lenType": 16,
    "lenVar": 40
   },
   "kernels_config": {
    "python": {
     "delete_cmd_postfix": "",
     "delete_cmd_prefix": "del ",
     "library": "var_list.py",
     "varRefreshCmd": "print(var_dic_list())"
    },
    "r": {
     "delete_cmd_postfix": ") ",
     "delete_cmd_prefix": "rm(",
     "library": "var_list.r",
     "varRefreshCmd": "cat(var_dic_list()) "
    }
   },
   "types_to_exclude": [
    "module",
    "function",
    "builtin_function_or_method",
    "instance",
    "_Feature"
   ],
   "window_display": false
  }
 },
 "nbformat": 4,
 "nbformat_minor": 5
}
